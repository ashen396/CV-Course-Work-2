{
 "cells": [
  {
   "cell_type": "code",
   "execution_count": 1,
   "id": "e7b5b978-1b44-4eed-8441-e01ae1c1d064",
   "metadata": {},
   "outputs": [
    {
     "name": "stderr",
     "output_type": "stream",
     "text": [
      "2025-09-30 23:45:07.125678: I tensorflow/core/platform/cpu_feature_guard.cc:182] This TensorFlow binary is optimized to use available CPU instructions in performance-critical operations.\n",
      "To enable the following instructions: AVX2 FMA, in other operations, rebuild TensorFlow with the appropriate compiler flags.\n",
      "/Users/mac/Desktop/Projects/Python/CourseWork2/LICENSEPLATERECOGNITION/lib/python3.8/site-packages/urllib3/__init__.py:35: NotOpenSSLWarning: urllib3 v2 only supports OpenSSL 1.1.1+, currently the 'ssl' module is compiled with 'LibreSSL 2.8.3'. See: https://github.com/urllib3/urllib3/issues/3020\n",
      "  warnings.warn(\n"
     ]
    }
   ],
   "source": [
    "import os\n",
    "import cv2\n",
    "import numpy as np\n",
    "import tensorflow as tf\n",
    "from tensorflow.keras import layers, models\n",
    "import xml.etree.ElementTree as ET\n",
    "from sklearn.model_selection import train_test_split\n",
    "import matplotlib.pyplot as plt\n",
    "import pytesseract"
   ]
  },
  {
   "cell_type": "code",
   "execution_count": 5,
   "id": "5633e478-6cf6-4de4-8e0e-151d9dd73f11",
   "metadata": {},
   "outputs": [],
   "source": [
    "def load_data(image_dir, xml_dir, img_size=(128, 128)):\n",
    "    images = []\n",
    "    bboxes = []  # [xmin, ymin, xmax, ymax] normalized\n",
    "    img_files = [f for f in os.listdir(image_dir) if f.lower().endswith(('.jpg', '.png'))]\n",
    "\n",
    "    if len(img_files) == 0:\n",
    "        print(\"No images found in\", image_dir)\n",
    "        return np.array([]), np.array([])\n",
    "\n",
    "    for img_file in img_files:\n",
    "        img_path = os.path.join(image_dir, img_file)\n",
    "        xml_path = os.path.join(xml_dir, img_file.rsplit('.',1)[0] + '.xml')\n",
    "\n",
    "        if not os.path.exists(xml_path):\n",
    "            print(f\"Warning: XML not found for {img_file}\")\n",
    "            continue\n",
    "\n",
    "        img = cv2.imread(img_path)\n",
    "        if img is None:\n",
    "            print(f\"Warning: Failed to read {img_file}\")\n",
    "            continue\n",
    "        H, W, _ = img.shape\n",
    "\n",
    "        try:\n",
    "            tree = ET.parse(xml_path)\n",
    "            root = tree.getroot()\n",
    "        except Exception as e:\n",
    "            print(f\"Error parsing XML {xml_path}: {e}\")\n",
    "            continue\n",
    "\n",
    "        found_bbox = False\n",
    "        for obj in root.findall('object'):\n",
    "            name_tag = obj.find('name')\n",
    "            if name_tag is None:\n",
    "                continue\n",
    "            name = name_tag.text\n",
    "\n",
    "            \n",
    "            bbox = obj.find('bndbox')\n",
    "            if bbox is None:\n",
    "                continue\n",
    "            xmin = int(bbox.find('xmin').text) / W\n",
    "            ymin = int(bbox.find('ymin').text) / H\n",
    "            xmax = int(bbox.find('xmax').text) / W\n",
    "            ymax = int(bbox.find('ymax').text) / H\n",
    "            img_resized = cv2.resize(img, img_size)\n",
    "            images.append(img_resized)\n",
    "            bboxes.append([xmin, ymin, xmax, ymax])\n",
    "            found_bbox = True\n",
    "\n",
    "        if not found_bbox:\n",
    "            print(f\"Warning: No 'plate' object found in {xml_path}\")\n",
    "\n",
    "    images = np.array(images) / 255.0\n",
    "    bboxes = np.array(bboxes)\n",
    "    print(f\"Loaded {len(images)} images and {len(bboxes)} bounding boxes.\")\n",
    "    return images, bboxes"
   ]
  },
  {
   "cell_type": "code",
   "execution_count": 6,
   "id": "e01b8f7a-e6b9-4fc5-8296-752c4131341c",
   "metadata": {},
   "outputs": [],
   "source": [
    "def build_cnn_model(input_shape=(128,128,3)):\n",
    "    model = models.Sequential()\n",
    "    model.add(layers.Conv2D(32, (3,3), activation='relu', input_shape=input_shape))\n",
    "    model.add(layers.MaxPooling2D(2,2))\n",
    "    model.add(layers.Conv2D(64, (3,3), activation='relu'))\n",
    "    model.add(layers.MaxPooling2D(2,2))\n",
    "    model.add(layers.Conv2D(128, (3,3), activation='relu'))\n",
    "    model.add(layers.MaxPooling2D(2,2))\n",
    "    model.add(layers.Flatten())\n",
    "    model.add(layers.Dense(128, activation='relu'))\n",
    "    model.add(layers.Dense(64, activation='relu'))\n",
    "    model.add(layers.Dense(4, activation='sigmoid'))  # xmin, ymin, xmax, ymax normalized\n",
    "    model.compile(optimizer='adam', loss='mse')\n",
    "    return model"
   ]
  },
  {
   "cell_type": "code",
   "execution_count": 7,
   "id": "8f3acede-7969-4720-b88b-4d9117a0af1d",
   "metadata": {},
   "outputs": [
    {
     "name": "stdout",
     "output_type": "stream",
     "text": [
      "Loaded 265 images and 265 bounding boxes.\n"
     ]
    }
   ],
   "source": [
    "image_dir = './newdata/imgs'  # Path to car images\n",
    "xml_dir = './newdata/xml'  # Path to XML annotations\n",
    "images, bboxes = load_data(image_dir, xml_dir)\n",
    "\n",
    "X_train, X_test, y_train, y_test = train_test_split(images, bboxes, test_size=0.25, random_state=42)"
   ]
  },
  {
   "cell_type": "code",
   "execution_count": null,
   "id": "3c2a1b61-340b-4376-b034-2832ca29dff6",
   "metadata": {},
   "outputs": [
    {
     "name": "stdout",
     "output_type": "stream",
     "text": [
      "Epoch 1/50\n",
      "12/12 [==============================] - 16s 778ms/step - loss: 0.0375 - val_loss: 0.0272\n",
      "Epoch 2/50\n"
     ]
    }
   ],
   "source": [
    "model = build_cnn_model()\n",
    "history = model.fit(X_train, y_train, epochs=50, batch_size=16, validation_split=0.1)\n",
    "model.save('./model/model1.h5')"
   ]
  },
  {
   "cell_type": "code",
   "execution_count": null,
   "id": "2762807b-ebe5-42c2-8849-e014107704fa",
   "metadata": {},
   "outputs": [],
   "source": [
    "def predict_and_crop(image, model, img_size=(128,128)):\n",
    "    h_orig, w_orig = image.shape[:2]\n",
    "    img_resized = cv2.resize(image, img_size)/255.0\n",
    "    bbox_pred = model.predict(np.expand_dims(img_resized, axis=0))[0]\n",
    "    # Convert back to original scale\n",
    "    xmin = int(bbox_pred[0]*w_orig)\n",
    "    ymin = int(bbox_pred[1]*h_orig)\n",
    "    xmax = int(bbox_pred[2]*w_orig)\n",
    "    ymax = int(bbox_pred[3]*h_orig)\n",
    "    cropped = image[ymin:ymax, xmin:xmax]\n",
    "    return cropped, (xmin, ymin, xmax, ymax)"
   ]
  },
  {
   "cell_type": "code",
   "execution_count": null,
   "id": "c498fc6c-2dff-4e61-9f30-68bbf684c983",
   "metadata": {},
   "outputs": [],
   "source": [
    "test_img_path = './test/2.jpg'\n",
    "img = cv2.imread(test_img_path)\n",
    "cropped_plate, bbox = predict_and_crop(img, model)"
   ]
  },
  {
   "cell_type": "code",
   "execution_count": null,
   "id": "8ae7c45f-3ee7-44d6-9e1a-93d71007d07e",
   "metadata": {},
   "outputs": [],
   "source": [
    "cv2.rectangle(img, (bbox[0], bbox[1]), (bbox[2], bbox[3]), (0,255,0), 2)\n",
    "cv2.imshow(\"Detected Plate\", img)\n",
    "cv2.imshow(\"Cropped Plate\", cropped_plate)\n",
    "# cv2.waitKey(0)"
   ]
  },
  {
   "cell_type": "code",
   "execution_count": null,
   "id": "2cec95d5-bfdf-4f65-89cb-61fd9ba59cc2",
   "metadata": {},
   "outputs": [],
   "source": [
    "plate_text = pytesseract.image_to_string(cropped_plate, config='--psm 7')\n",
    "print(\"Detected License Plate:\", plate_text.strip())"
   ]
  },
  {
   "cell_type": "code",
   "execution_count": null,
   "id": "be9b048b-68bd-4582-bd39-a0910dc6265e",
   "metadata": {},
   "outputs": [],
   "source": [
    "# from sklearn.metrics import precision_recall_curve\n",
    "\n",
    "# precision, recall, _ = precision_recall_curve(y_true, y_scores)\n",
    "# plt.plot(recall, precision)\n",
    "# plt.xlabel('Recall')\n",
    "# plt.ylabel('Precision')\n",
    "# plt.title('Precision-Recall Curve')\n",
    "# plt.show()"
   ]
  },
  {
   "cell_type": "code",
   "execution_count": null,
   "id": "1130f201-1a63-4940-9554-d3e7c6e794bd",
   "metadata": {},
   "outputs": [],
   "source": [
    "plt.figure(figsize=(8, 6))\n",
    "plt.plot(history.history['loss'], label='Training Loss')\n",
    "plt.plot(history.history['val_loss'], label='Validation Loss')\n",
    "plt.title('Training vs. Validation Loss')\n",
    "plt.xlabel('Epochs')\n",
    "plt.ylabel('Loss (MSE)')\n",
    "plt.legend()\n",
    "plt.grid(True)\n",
    "plt.tight_layout()\n",
    "plt.show()"
   ]
  },
  {
   "cell_type": "code",
   "execution_count": null,
   "id": "61650ed9-2ed1-4241-a5a2-8afdd0094c3b",
   "metadata": {},
   "outputs": [],
   "source": [
    "def iou(y_true, y_pred):\n",
    "    \"\"\"\n",
    "    Compute Intersection over Union for two bounding boxes.\n",
    "    y_true and y_pred: [xmin, ymin, xmax, ymax] in pixel coordinates\n",
    "    \"\"\"\n",
    "    xA = max(y_true[0], y_pred[0])\n",
    "    yA = max(y_true[1], y_pred[1])\n",
    "    xB = min(y_true[2], y_pred[2])\n",
    "    yB = min(y_true[3], y_pred[3])\n",
    "\n",
    "    inter_area = max(0, xB - xA) * max(0, yB - yA)\n",
    "    boxA_area = (y_true[2] - y_true[0]) * (y_true[3] - y_true[1])\n",
    "    boxB_area = (y_pred[2] - y_pred[0]) * (y_pred[3] - y_pred[1])\n",
    "\n",
    "    return inter_area / float(boxA_area + boxB_area - inter_area + 1e-6)"
   ]
  },
  {
   "cell_type": "code",
   "execution_count": null,
   "id": "a299be6f-a5cf-444f-9fff-171968fde4dd",
   "metadata": {},
   "outputs": [],
   "source": [
    "from sklearn.metrics import precision_score, recall_score, f1_score\n",
    "\n",
    "threshold = 0.5\n",
    "y_true_labels = []\n",
    "y_pred_labels = []\n",
    "\n",
    "for i in range(len(X_test)):\n",
    "    y_pred = model.predict(np.expand_dims(X_test[i], axis=0))[0]\n",
    "    h, w, _ = X_test[i].shape\n",
    "\n",
    "    # Scale back to original image size\n",
    "    y_pred_scaled = [int(y_pred[0]*w), int(y_pred[1]*h), int(y_pred[2]*w), int(y_pred[3]*h)]\n",
    "    y_true_scaled = [int(y_test[i][0]*w), int(y_test[i][1]*h), int(y_test[i][2]*w), int(y_test[i][3]*h)]\n",
    "\n",
    "    iou_score = iou(y_true_scaled, y_pred_scaled)\n",
    "\n",
    "    if iou_score >= threshold:\n",
    "        y_true_labels.append(1)  # ground truth exists\n",
    "        y_pred_labels.append(1)  # correctly predicted\n",
    "    else:\n",
    "        y_true_labels.append(1)  # ground truth exists\n",
    "        y_pred_labels.append(0)  # missed detection"
   ]
  },
  {
   "cell_type": "code",
   "execution_count": null,
   "id": "e10bdae6-ad47-44a1-a2c7-82f6f2150f9d",
   "metadata": {},
   "outputs": [],
   "source": [
    "precision = precision_score(y_true_labels, y_pred_labels)\n",
    "recall = recall_score(y_true_labels, y_pred_labels)\n",
    "f1 = f1_score(y_true_labels, y_pred_labels)\n",
    "accuracy = np.mean(np.array(y_true_labels) == np.array(y_pred_labels))\n",
    "\n",
    "print(f\"Accuracy: {accuracy:.3f}\")\n",
    "print(f\"Precision: {precision:.3f}\")\n",
    "print(f\"Recall: {recall:.3f}\")\n",
    "print(f\"F1-score: {f1:.3f}\")"
   ]
  },
  {
   "cell_type": "code",
   "execution_count": null,
   "id": "f5a8c1c0-64a2-4508-a7d0-01a3a1c5e372",
   "metadata": {},
   "outputs": [],
   "source": []
  }
 ],
 "metadata": {
  "kernelspec": {
   "display_name": "Python 3 (ipykernel)",
   "language": "python",
   "name": "python3"
  },
  "language_info": {
   "codemirror_mode": {
    "name": "ipython",
    "version": 3
   },
   "file_extension": ".py",
   "mimetype": "text/x-python",
   "name": "python",
   "nbconvert_exporter": "python",
   "pygments_lexer": "ipython3",
   "version": "3.8.2"
  }
 },
 "nbformat": 4,
 "nbformat_minor": 5
}
